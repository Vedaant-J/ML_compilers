{
  "nbformat": 4,
  "nbformat_minor": 0,
  "metadata": {
    "colab": {
      "provenance": [],
      "gpuType": "T4",
      "authorship_tag": "ABX9TyMvJzEzBjNcRM6LU578iSws",
      "include_colab_link": true
    },
    "kernelspec": {
      "name": "python3",
      "display_name": "Python 3"
    },
    "language_info": {
      "name": "python"
    },
    "accelerator": "GPU"
  },
  "cells": [
    {
      "cell_type": "markdown",
      "metadata": {
        "id": "view-in-github",
        "colab_type": "text"
      },
      "source": [
        "<a href=\"https://colab.research.google.com/github/Vedaant-J/ML_compilers/blob/main/CS521_MP1_gpu_colab.ipynb\" target=\"_parent\"><img src=\"https://colab.research.google.com/assets/colab-badge.svg\" alt=\"Open In Colab\"/></a>"
      ]
    },
    {
      "cell_type": "code",
      "execution_count": 1,
      "metadata": {
        "colab": {
          "base_uri": "https://localhost:8080/"
        },
        "id": "yqa1Q7KRQbnw",
        "outputId": "13025f30-45fd-4de7-d0a5-5e69f8d077f4"
      },
      "outputs": [
        {
          "output_type": "stream",
          "name": "stdout",
          "text": [
            "Detected platform \"Colab\". Running its setup...\n",
            "Source files will be saved in \"/tmp/tmp3mxb0rrx\".\n"
          ]
        }
      ],
      "source": [
        "%load_ext nvcc4jupyter"
      ]
    },
    {
      "cell_type": "code",
      "source": [
        "!git clone https://github.com/Vedaant-J/ML_compilers"
      ],
      "metadata": {
        "colab": {
          "base_uri": "https://localhost:8080/"
        },
        "id": "B3seR7APQgSP",
        "outputId": "e51f5876-5779-4daf-f11b-9fc82da2ef51"
      },
      "execution_count": 3,
      "outputs": [
        {
          "output_type": "stream",
          "name": "stdout",
          "text": [
            "Cloning into 'ML_compilers'...\n",
            "remote: Enumerating objects: 216, done.\u001b[K\n",
            "remote: Counting objects: 100% (216/216), done.\u001b[K\n",
            "remote: Compressing objects: 100% (114/114), done.\u001b[K\n",
            "remote: Total 216 (delta 97), reused 216 (delta 97), pack-reused 0 (from 0)\u001b[K\n",
            "Receiving objects: 100% (216/216), 3.40 MiB | 41.94 MiB/s, done.\n",
            "Resolving deltas: 100% (97/97), done.\n"
          ]
        }
      ]
    },
    {
      "cell_type": "code",
      "source": [
        "%cd ML_compilers/gpu"
      ],
      "metadata": {
        "colab": {
          "base_uri": "https://localhost:8080/"
        },
        "id": "rjl4bluqTyX4",
        "outputId": "59273086-a609-4d24-cce1-752d18c54986"
      },
      "execution_count": 4,
      "outputs": [
        {
          "output_type": "stream",
          "name": "stdout",
          "text": [
            "/content/ML_compilers/gpu\n"
          ]
        }
      ]
    },
    {
      "cell_type": "code",
      "source": [
        "!!mkdir build\n",
        "%cd build"
      ],
      "metadata": {
        "colab": {
          "base_uri": "https://localhost:8080/"
        },
        "id": "FQyllGZIT4up",
        "outputId": "dfb3e32a-a6e9-4013-aa3e-2f2679d0591f"
      },
      "execution_count": 6,
      "outputs": [
        {
          "output_type": "stream",
          "name": "stdout",
          "text": [
            "/content/ML_compilers/gpu/build\n"
          ]
        }
      ]
    },
    {
      "cell_type": "code",
      "source": [
        "!cmake .."
      ],
      "metadata": {
        "colab": {
          "base_uri": "https://localhost:8080/"
        },
        "id": "Ftxn_FrcT7Fb",
        "outputId": "9b312193-206a-4e83-e0e8-1a66e4ce7a95"
      },
      "execution_count": 14,
      "outputs": [
        {
          "output_type": "stream",
          "name": "stdout",
          "text": [
            "\u001b[0mCMake Deprecation Warning at CMakeLists.txt:1 (cmake_minimum_required):\n",
            "  Compatibility with CMake < 3.10 will be removed from a future version of\n",
            "  CMake.\n",
            "\n",
            "  Update the VERSION argument <min> value.  Or, use the <min>...<max> syntax\n",
            "  to tell CMake that the project requires at least <min> but has been updated\n",
            "  to work with policies introduced by <max> or earlier.\n",
            "\n",
            "\u001b[0m\n",
            "-- Configuring done (0.0s)\n",
            "-- Generating done (0.0s)\n",
            "-- Build files have been written to: /content/ML_compilers/gpu/build\n"
          ]
        }
      ]
    },
    {
      "cell_type": "code",
      "source": [
        "!make"
      ],
      "metadata": {
        "colab": {
          "base_uri": "https://localhost:8080/"
        },
        "id": "KsjJ-ZgmUG6e",
        "outputId": "9524b9db-5901-4e21-d971-fc14706a2ea6"
      },
      "execution_count": 15,
      "outputs": [
        {
          "output_type": "stream",
          "name": "stdout",
          "text": [
            "[ 50%] \u001b[32mBuilding CUDA object CMakeFiles/mp1_gpu.dir/gemm_gpu.cu.o\u001b[0m\n",
            "[100%] \u001b[32m\u001b[1mLinking CUDA executable mp1_gpu\u001b[0m\n",
            "[100%] Built target mp1_gpu\n"
          ]
        }
      ]
    },
    {
      "cell_type": "code",
      "source": [
        "!./mp1_gpu 100 100 100"
      ],
      "metadata": {
        "colab": {
          "base_uri": "https://localhost:8080/"
        },
        "id": "0DwAIPBSUJkg",
        "outputId": "b6d02fee-e74e-472f-c820-17e87da1f3c4"
      },
      "execution_count": 12,
      "outputs": [
        {
          "output_type": "stream",
          "name": "stdout",
          "text": [
            "checking gemm_gpu_o0\n",
            "checking gemm_gpu_o1\n",
            "checking gemm_gpu_o2\n",
            "checking gemm_gpu_o3\n",
            "checking gemm_cublas\n",
            "Time taken for GEMM (GPU, gemm_gpu_o0): 37.4365ms\n",
            "Time taken for GEMM (GPU, gemm_gpu_o1): 0.0096416ms\n",
            "Time taken for GEMM (GPU, gemm_gpu_o2): 0.01256ms\n",
            "Time taken for GEMM (GPU, gemm_gpu_o3): 0.012416ms\n",
            "Time taken for GEMM (GPU, gemm_cublas): 0.190397ms\n"
          ]
        }
      ]
    },
    {
      "cell_type": "code",
      "source": [
        "!./mp1_gpu 1000 1000 1000"
      ],
      "metadata": {
        "colab": {
          "base_uri": "https://localhost:8080/"
        },
        "id": "895vacj_UTD_",
        "outputId": "eb31b4cf-1f88-4a2e-eee7-483f50e154fe"
      },
      "execution_count": 16,
      "outputs": [
        {
          "output_type": "stream",
          "name": "stdout",
          "text": [
            "checking gemm_gpu_o1\n",
            "checking gemm_gpu_o2\n",
            "checking gemm_gpu_o3\n",
            "checking gemm_cublas\n",
            "Time taken for GEMM (GPU, gemm_gpu_o1): 7.095ms\n",
            "Time taken for GEMM (GPU, gemm_gpu_o2): 4.11892ms\n",
            "Time taken for GEMM (GPU, gemm_gpu_o3): 3.88514ms\n",
            "Time taken for GEMM (GPU, gemm_cublas): 0.864534ms\n"
          ]
        }
      ]
    },
    {
      "cell_type": "markdown",
      "source": [
        "# Scalability"
      ],
      "metadata": {
        "id": "hjUE80wOU52a"
      }
    },
    {
      "cell_type": "code",
      "source": [
        "!cmake ..\n",
        "!make"
      ],
      "metadata": {
        "colab": {
          "base_uri": "https://localhost:8080/"
        },
        "id": "nP56xtL1U_EK",
        "outputId": "c178ccb2-ad5e-4bc4-8e00-930d2e85470d"
      },
      "execution_count": 17,
      "outputs": [
        {
          "output_type": "stream",
          "name": "stdout",
          "text": [
            "\u001b[0mCMake Deprecation Warning at CMakeLists.txt:1 (cmake_minimum_required):\n",
            "  Compatibility with CMake < 3.10 will be removed from a future version of\n",
            "  CMake.\n",
            "\n",
            "  Update the VERSION argument <min> value.  Or, use the <min>...<max> syntax\n",
            "  to tell CMake that the project requires at least <min> but has been updated\n",
            "  to work with policies introduced by <max> or earlier.\n",
            "\n",
            "\u001b[0m\n",
            "-- Configuring done (0.1s)\n",
            "-- Generating done (0.0s)\n",
            "-- Build files have been written to: /content/ML_compilers/gpu/build\n",
            "[ 50%] \u001b[32mBuilding CUDA object CMakeFiles/mp1_gpu.dir/gemm_gpu.cu.o\u001b[0m\n",
            "[100%] \u001b[32m\u001b[1mLinking CUDA executable mp1_gpu\u001b[0m\n",
            "[100%] Built target mp1_gpu\n"
          ]
        }
      ]
    },
    {
      "cell_type": "code",
      "source": [
        "!./mp1_gpu 100 100 100\n",
        "!./mp1_gpu 1000 1000 1000\n",
        "!./mp1_gpu 5000 5000 5000\n",
        "!./mp1_gpu 10000 10000 10000"
      ],
      "metadata": {
        "colab": {
          "base_uri": "https://localhost:8080/"
        },
        "id": "y2K91pyBUqBu",
        "outputId": "9cdbdfb6-6b27-4ebf-8689-16ceb766185a"
      },
      "execution_count": 18,
      "outputs": [
        {
          "output_type": "stream",
          "name": "stdout",
          "text": [
            "checking gemm_gpu_o3\n",
            "checking gemm_cublas\n",
            "Time taken for GEMM (GPU, gemm_gpu_o3): 0.0284192ms\n",
            "Time taken for GEMM (GPU, gemm_cublas): 0.3804ms\n",
            "checking gemm_gpu_o3\n",
            "checking gemm_cublas\n",
            "Time taken for GEMM (GPU, gemm_gpu_o3): 5.30745ms\n",
            "Time taken for GEMM (GPU, gemm_cublas): 1.16671ms\n",
            "checking gemm_gpu_o3\n",
            "checking gemm_cublas\n",
            "Time taken for GEMM (GPU, gemm_gpu_o3): 265.865ms\n",
            "Time taken for GEMM (GPU, gemm_cublas): 41.2242ms\n",
            "checking gemm_gpu_o3\n",
            "checking gemm_cublas\n",
            "Time taken for GEMM (GPU, gemm_gpu_o3): 2200.58ms\n",
            "Time taken for GEMM (GPU, gemm_cublas): 435.603ms\n"
          ]
        }
      ]
    },
    {
      "cell_type": "code",
      "source": [],
      "metadata": {
        "id": "HUiR9WBjVIVS"
      },
      "execution_count": null,
      "outputs": []
    }
  ]
}