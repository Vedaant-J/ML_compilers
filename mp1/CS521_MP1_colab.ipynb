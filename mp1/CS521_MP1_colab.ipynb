{
  "nbformat": 4,
  "nbformat_minor": 0,
  "metadata": {
    "colab": {
      "provenance": [],
      "gpuType": "T4",
      "authorship_tag": "ABX9TyOxucii8GTlkpGM4hll3oRL",
      "include_colab_link": true
    },
    "kernelspec": {
      "name": "python3",
      "display_name": "Python 3"
    },
    "language_info": {
      "name": "python"
    },
    "accelerator": "GPU"
  },
  "cells": [
    {
      "cell_type": "markdown",
      "metadata": {
        "id": "view-in-github",
        "colab_type": "text"
      },
      "source": [
        "<a href=\"https://colab.research.google.com/github/Vedaant-J/ML_compilers/blob/main/CS521_MP1_colab.ipynb\" target=\"_parent\"><img src=\"https://colab.research.google.com/assets/colab-badge.svg\" alt=\"Open In Colab\"/></a>"
      ]
    },
    {
      "cell_type": "code",
      "execution_count": 2,
      "metadata": {
        "colab": {
          "base_uri": "https://localhost:8080/"
        },
        "id": "yqa1Q7KRQbnw",
        "outputId": "0e3fa8b1-ebfa-40e8-944e-8cf24bd18896"
      },
      "outputs": [
        {
          "output_type": "stream",
          "name": "stdout",
          "text": [
            "Detected platform \"Colab\". Running its setup...\n",
            "Source files will be saved in \"/tmp/tmpxbg8e3sa\".\n"
          ]
        }
      ],
      "source": [
        "%load_ext nvcc4jupyter"
      ]
    },
    {
      "cell_type": "code",
      "source": [
        "!git clone https://github.com/Vedaant-J/ML_compilers"
      ],
      "metadata": {
        "colab": {
          "base_uri": "https://localhost:8080/"
        },
        "id": "B3seR7APQgSP",
        "outputId": "2c52e1ac-1ecc-4e85-8144-d240bbf5957a"
      },
      "execution_count": 3,
      "outputs": [
        {
          "output_type": "stream",
          "name": "stdout",
          "text": [
            "Cloning into 'ML_compilers'...\n",
            "remote: Enumerating objects: 219, done.\u001b[K\n",
            "remote: Counting objects: 100% (219/219), done.\u001b[K\n",
            "remote: Compressing objects: 100% (117/117), done.\u001b[K\n",
            "remote: Total 219 (delta 98), reused 215 (delta 97), pack-reused 0 (from 0)\u001b[K\n",
            "Receiving objects: 100% (219/219), 3.40 MiB | 28.78 MiB/s, done.\n",
            "Resolving deltas: 100% (98/98), done.\n"
          ]
        }
      ]
    },
    {
      "cell_type": "code",
      "source": [
        "%cd ML_compilers/gpu"
      ],
      "metadata": {
        "colab": {
          "base_uri": "https://localhost:8080/"
        },
        "id": "rjl4bluqTyX4",
        "outputId": "ee6cb048-8284-4df2-d509-7fd690106fe1"
      },
      "execution_count": 4,
      "outputs": [
        {
          "output_type": "stream",
          "name": "stdout",
          "text": [
            "/content/ML_compilers/gpu\n"
          ]
        }
      ]
    },
    {
      "cell_type": "code",
      "source": [
        "!mkdir build\n",
        "%cd build"
      ],
      "metadata": {
        "colab": {
          "base_uri": "https://localhost:8080/"
        },
        "id": "FQyllGZIT4up",
        "outputId": "9190b261-8c47-48f0-fd97-483b7a991319"
      },
      "execution_count": 5,
      "outputs": [
        {
          "output_type": "stream",
          "name": "stdout",
          "text": [
            "/content/ML_compilers/gpu/build\n"
          ]
        }
      ]
    },
    {
      "cell_type": "code",
      "source": [
        "!cmake .."
      ],
      "metadata": {
        "colab": {
          "base_uri": "https://localhost:8080/"
        },
        "id": "Ftxn_FrcT7Fb",
        "outputId": "41a4e88f-81f9-4280-e984-cdeb1c88ff70"
      },
      "execution_count": 6,
      "outputs": [
        {
          "output_type": "stream",
          "name": "stdout",
          "text": [
            "\u001b[0mCMake Deprecation Warning at CMakeLists.txt:1 (cmake_minimum_required):\n",
            "  Compatibility with CMake < 3.10 will be removed from a future version of\n",
            "  CMake.\n",
            "\n",
            "  Update the VERSION argument <min> value.  Or, use the <min>...<max> syntax\n",
            "  to tell CMake that the project requires at least <min> but has been updated\n",
            "  to work with policies introduced by <max> or earlier.\n",
            "\n",
            "\u001b[0m\n",
            "-- The CUDA compiler identification is NVIDIA 12.5.82 with host compiler GNU 11.4.0\n",
            "-- The CXX compiler identification is GNU 11.4.0\n",
            "-- Detecting CUDA compiler ABI info\n",
            "-- Detecting CUDA compiler ABI info - done\n",
            "-- Check for working CUDA compiler: /usr/local/cuda/bin/nvcc - skipped\n",
            "-- Detecting CUDA compile features\n",
            "-- Detecting CUDA compile features - done\n",
            "-- Detecting CXX compiler ABI info\n",
            "-- Detecting CXX compiler ABI info - done\n",
            "-- Check for working CXX compiler: /usr/bin/c++ - skipped\n",
            "-- Detecting CXX compile features\n",
            "-- Detecting CXX compile features - done\n",
            "-- Found CUDAToolkit: /usr/local/cuda/targets/x86_64-linux/include (found version \"12.5.82\")\n",
            "-- Performing Test CMAKE_HAVE_LIBC_PTHREAD\n",
            "-- Performing Test CMAKE_HAVE_LIBC_PTHREAD - Success\n",
            "-- Found Threads: TRUE\n",
            "-- Configuring done (3.5s)\n",
            "-- Generating done (0.0s)\n",
            "-- Build files have been written to: /content/ML_compilers/gpu/build\n"
          ]
        }
      ]
    },
    {
      "cell_type": "code",
      "source": [
        "!make"
      ],
      "metadata": {
        "colab": {
          "base_uri": "https://localhost:8080/"
        },
        "id": "KsjJ-ZgmUG6e",
        "outputId": "90714dac-5104-481e-922e-fb28678c8971"
      },
      "execution_count": 7,
      "outputs": [
        {
          "output_type": "stream",
          "name": "stdout",
          "text": [
            "[ 50%] \u001b[32mBuilding CUDA object CMakeFiles/mp1_gpu.dir/gemm_gpu.cu.o\u001b[0m\n",
            "[100%] \u001b[32m\u001b[1mLinking CUDA executable mp1_gpu\u001b[0m\n",
            "[100%] Built target mp1_gpu\n"
          ]
        }
      ]
    },
    {
      "cell_type": "code",
      "source": [
        "!./mp1_gpu 100 100 100"
      ],
      "metadata": {
        "colab": {
          "base_uri": "https://localhost:8080/"
        },
        "id": "0DwAIPBSUJkg",
        "outputId": "2cdcfbc1-d74d-45eb-eedc-b129a38f70e0"
      },
      "execution_count": 8,
      "outputs": [
        {
          "output_type": "stream",
          "name": "stdout",
          "text": [
            "checking gemm_gpu_o0\n",
            "checking gemm_gpu_o1\n",
            "checking gemm_gpu_o2\n",
            "checking gemm_gpu_o3\n",
            "checking gemm_cublas\n",
            "Time taken for GEMM (GPU, gemm_gpu_o0): 40.2262ms\n",
            "Time taken for GEMM (GPU, gemm_gpu_o1): 0.0114016ms\n",
            "Time taken for GEMM (GPU, gemm_gpu_o2): 0.0146816ms\n",
            "Time taken for GEMM (GPU, gemm_gpu_o3): 0.0131968ms\n",
            "Time taken for GEMM (GPU, gemm_cublas): 0.23512ms\n"
          ]
        }
      ]
    },
    {
      "cell_type": "code",
      "source": [
        "!./mp1_gpu 1000 1000 1000"
      ],
      "metadata": {
        "colab": {
          "base_uri": "https://localhost:8080/"
        },
        "id": "895vacj_UTD_",
        "outputId": "5a172694-48bb-40f9-ee23-1f4a8a0627d1"
      },
      "execution_count": 9,
      "outputs": [
        {
          "output_type": "stream",
          "name": "stdout",
          "text": [
            "checking gemm_gpu_o0\n",
            "checking gemm_gpu_o1\n",
            "checking gemm_gpu_o2\n",
            "checking gemm_gpu_o3\n",
            "checking gemm_cublas\n",
            "Time taken for GEMM (GPU, gemm_gpu_o0): 151559ms\n",
            "Time taken for GEMM (GPU, gemm_gpu_o1): 2.88832ms\n",
            "Time taken for GEMM (GPU, gemm_gpu_o2): 2.46629ms\n",
            "Time taken for GEMM (GPU, gemm_gpu_o3): 2.18739ms\n",
            "Time taken for GEMM (GPU, gemm_cublas): 0.597258ms\n"
          ]
        }
      ]
    },
    {
      "cell_type": "markdown",
      "source": [
        "# Scalability"
      ],
      "metadata": {
        "id": "hjUE80wOU52a"
      }
    },
    {
      "cell_type": "code",
      "source": [
        "!cmake ..\n",
        "!make"
      ],
      "metadata": {
        "colab": {
          "base_uri": "https://localhost:8080/"
        },
        "id": "nP56xtL1U_EK",
        "outputId": "c178ccb2-ad5e-4bc4-8e00-930d2e85470d"
      },
      "execution_count": 17,
      "outputs": [
        {
          "output_type": "stream",
          "name": "stdout",
          "text": [
            "\u001b[0mCMake Deprecation Warning at CMakeLists.txt:1 (cmake_minimum_required):\n",
            "  Compatibility with CMake < 3.10 will be removed from a future version of\n",
            "  CMake.\n",
            "\n",
            "  Update the VERSION argument <min> value.  Or, use the <min>...<max> syntax\n",
            "  to tell CMake that the project requires at least <min> but has been updated\n",
            "  to work with policies introduced by <max> or earlier.\n",
            "\n",
            "\u001b[0m\n",
            "-- Configuring done (0.1s)\n",
            "-- Generating done (0.0s)\n",
            "-- Build files have been written to: /content/ML_compilers/gpu/build\n",
            "[ 50%] \u001b[32mBuilding CUDA object CMakeFiles/mp1_gpu.dir/gemm_gpu.cu.o\u001b[0m\n",
            "[100%] \u001b[32m\u001b[1mLinking CUDA executable mp1_gpu\u001b[0m\n",
            "[100%] Built target mp1_gpu\n"
          ]
        }
      ]
    },
    {
      "cell_type": "code",
      "source": [
        "!./mp1_gpu 100 100 100\n",
        "!./mp1_gpu 1000 1000 1000\n",
        "!./mp1_gpu 5000 5000 5000\n",
        "!./mp1_gpu 10000 10000 10000"
      ],
      "metadata": {
        "colab": {
          "base_uri": "https://localhost:8080/"
        },
        "id": "y2K91pyBUqBu",
        "outputId": "9cdbdfb6-6b27-4ebf-8689-16ceb766185a"
      },
      "execution_count": 18,
      "outputs": [
        {
          "output_type": "stream",
          "name": "stdout",
          "text": [
            "checking gemm_gpu_o3\n",
            "checking gemm_cublas\n",
            "Time taken for GEMM (GPU, gemm_gpu_o3): 0.0284192ms\n",
            "Time taken for GEMM (GPU, gemm_cublas): 0.3804ms\n",
            "checking gemm_gpu_o3\n",
            "checking gemm_cublas\n",
            "Time taken for GEMM (GPU, gemm_gpu_o3): 5.30745ms\n",
            "Time taken for GEMM (GPU, gemm_cublas): 1.16671ms\n",
            "checking gemm_gpu_o3\n",
            "checking gemm_cublas\n",
            "Time taken for GEMM (GPU, gemm_gpu_o3): 265.865ms\n",
            "Time taken for GEMM (GPU, gemm_cublas): 41.2242ms\n",
            "checking gemm_gpu_o3\n",
            "checking gemm_cublas\n",
            "Time taken for GEMM (GPU, gemm_gpu_o3): 2200.58ms\n",
            "Time taken for GEMM (GPU, gemm_cublas): 435.603ms\n"
          ]
        }
      ]
    },
    {
      "cell_type": "code",
      "source": [],
      "metadata": {
        "id": "HUiR9WBjVIVS"
      },
      "execution_count": null,
      "outputs": []
    }
  ]
}